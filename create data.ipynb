{
 "cells": [
  {
   "cell_type": "code",
   "execution_count": 1,
   "metadata": {
    "collapsed": true
   },
   "outputs": [
    {
     "name": "stderr",
     "output_type": "stream",
     "text": [
      "C:\\Users\\Lucie GALLAND\\AppData\\Local\\Temp\\ipykernel_17628\\2035458946.py:1: DeprecationWarning: \n",
      "Pyarrow will become a required dependency of pandas in the next major release of pandas (pandas 3.0),\n",
      "(to allow more performant data types, such as the Arrow string type, and better interoperability with other libraries)\n",
      "but was not found to be installed on your system.\n",
      "If this would cause problems for you,\n",
      "please provide us feedback at https://github.com/pandas-dev/pandas/issues/54466\n",
      "        \n",
      "  import pandas as pd\n"
     ]
    }
   ],
   "source": [
    "import pandas as pd"
   ]
  },
  {
   "cell_type": "code",
   "execution_count": 4,
   "outputs": [],
   "source": [
    "input_path = '...'\n",
    "name_data = 'hope_test.jsonl'\n",
    "df = pd.read_csv(input_path)"
   ],
   "metadata": {
    "collapsed": false
   }
  },
  {
   "cell_type": "code",
   "execution_count": 5,
   "outputs": [],
   "source": [
    "df['last_utterance'] = df['Utterance'].shift(1)\n",
    "df['last_id'] = df['ID'].shift(1)\n",
    "df['two_utterance_from_same_conv'] = df.apply(lambda w :   w['ID'].split('_')[0] == w['last_id'].split('_')[0] if w['last_id'] is not None else False ,axis=1)\n",
    "df['last_utterance'] = df.apply(lambda x: x['last_utterance'] if x['two_utterance_from_same_conv'] else \"\", axis=1)\n",
    "df['interlocutor'] = df['Type'].apply(lambda x: \"Therapist: \" if x == \"T\" else \"Patient: \")\n",
    "df['last_interlocutor'] = df['interlocutor'].shift(1)\n",
    "df['last_interlocutor'] = df.apply(lambda x: x['last_interlocutor'] if x['two_utterance_from_same_conv'] else \"\", axis=1)\n",
    "df['utterance_and_context'] = df['last_interlocutor'] + df['last_utterance']+\" \" + df['interlocutor'] + df['Utterance']"
   ],
   "metadata": {
    "collapsed": false
   }
  },
  {
   "cell_type": "code",
   "execution_count": 6,
   "outputs": [],
   "source": [
    "df['two_last_utterance'] = df['utterance_and_context'].shift(2)\n",
    "df['two_last_id'] = df['ID'].shift(2)\n",
    "df['two_utterance_from_same_conv'] = df.apply(lambda w :   w['ID'].split('_')[0] == w['two_last_id'].split('_')[0] if w['two_last_id'] is not None else False ,axis=1)\n",
    "df['two_last_utterance'] = df.apply(lambda x: x['two_last_utterance'] if x['two_utterance_from_same_conv'] else \"\", axis=1)\n",
    "df['interlocutor'] = df['Type'].apply(lambda x: \"Therapist: \" if x == \"T\" else \"Patient: \")\n",
    "df['two_last_interlocutor'] = df['interlocutor'].shift(2)\n",
    "df['two_last_interlocutor'] = df.apply(lambda x: x['two_last_interlocutor'] if x['two_utterance_from_same_conv'] else \"\", axis=1)\n",
    "df['context'] =  df['two_last_utterance']+\" \"  + df['last_interlocutor'] + df['last_utterance']"
   ],
   "metadata": {
    "collapsed": false
   }
  },
  {
   "cell_type": "code",
   "execution_count": 7,
   "outputs": [],
   "source": [
    "df[['ID', 'Utterance','context','Type','Dialog_Act']].to_json('dataset/'+name_data)"
   ],
   "metadata": {
    "collapsed": false
   }
  }
 ],
 "metadata": {
  "kernelspec": {
   "display_name": "Python 3",
   "language": "python",
   "name": "python3"
  },
  "language_info": {
   "codemirror_mode": {
    "name": "ipython",
    "version": 2
   },
   "file_extension": ".py",
   "mimetype": "text/x-python",
   "name": "python",
   "nbconvert_exporter": "python",
   "pygments_lexer": "ipython2",
   "version": "2.7.6"
  }
 },
 "nbformat": 4,
 "nbformat_minor": 0
}
